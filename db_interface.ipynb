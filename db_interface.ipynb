{
 "cells": [
  {
   "cell_type": "markdown",
   "metadata": {},
   "source": [
    "# Study Runner Interface"
   ]
  },
  {
   "cell_type": "markdown",
   "metadata": {},
   "source": [
    "## Imports & DB Session Initialization"
   ]
  },
  {
   "cell_type": "code",
   "execution_count": 1,
   "metadata": {},
   "outputs": [],
   "source": [
    "# Jupyter Notebook\n",
    "from IPython.lib.pretty import pprint\n",
    "from database.db_manager import DatabaseManager\n",
    "from database.models import CriteriaType, ContentHeaders, Paper, Study, Report\n",
    "\n",
    "# Initialize the DatabaseManager\n",
    "db_manager = DatabaseManager()"
   ]
  },
  {
   "cell_type": "markdown",
   "metadata": {},
   "source": [
    "## Database Overview"
   ]
  },
  {
   "cell_type": "code",
   "execution_count": 2,
   "metadata": {},
   "outputs": [
    {
     "name": "stdout",
     "output_type": "stream",
     "text": [
      "Table: <class 'database.models.Study'> \n",
      "        | Total Entries: 1 \n",
      "        | Entry attributes: ['id', 'study_date', 'dblp_used', 'papers_collected', 'reports_collected', 'total_tokens_used_llm', 'total_runtime', 'papers', 'study_input']\n",
      "Table: <class 'database.models.Paper'> \n",
      "        | Total Entries: 5 \n",
      "        | Entry attributes: ['id', 'study_id', 'doi', 'semantic_scholar_id', 'title', 'year', 'venue_type', 'venue_code', 'venue_key', 'venue_rank', 'publisher_source', 'pdf_source', 'study', 'report', 'content', 'metrics']\n",
      "Table: <class 'database.models.Report'> \n",
      "        | Total Entries: 5 \n",
      "        | Entry attributes: ['id', 'paper_id', 'passed_criteria', 'paper', 'criteria_assessments', 'research_question_assessments']\n"
     ]
    }
   ],
   "source": [
    "# Function: get_all_papers\n",
    "print(db_manager.show_table_statistics(Study))\n",
    "print(db_manager.show_table_statistics(Paper))\n",
    "print(db_manager.show_table_statistics(Report))"
   ]
  },
  {
   "cell_type": "markdown",
   "metadata": {},
   "source": [
    "## Content Overviews"
   ]
  },
  {
   "cell_type": "code",
   "execution_count": 3,
   "metadata": {},
   "outputs": [
    {
     "name": "stdout",
     "output_type": "stream",
     "text": [
      "Studies of today's date:\n",
      "['Date 2024-07-22 | ID: 1 | Papers: 5 | Reports: 5']\n"
     ]
    }
   ],
   "source": [
    "# Function: show_studies_of_date\n",
    "print(\"Studies of today's date:\")\n",
    "print(db_manager.show_studies_of_date())"
   ]
  },
  {
   "cell_type": "code",
   "execution_count": 4,
   "metadata": {},
   "outputs": [
    {
     "name": "stdout",
     "output_type": "stream",
     "text": [
      "Paper Title: Distributed Algorithm for Energy Efficient Joint Cloud and Edge Computing with Splittable Tasks. | Link: https://doi.org/10.1109/WCNC.2019.8885760\n",
      "Paper Title: Designing an Energy Efficient Routing for Subsystems Sensors in Internet of Things Eco-System Using Distributed Approach. | Link: https://doi.org/10.1007/978-3-030-51965-0_10\n",
      "Paper Title: A Semantic Segmentation Algorithm for Distributed Energy Data Storage Optimization based on Neural Networks. | Link: https://doi.org/10.1109/SmartCloud55982.2022.00024\n",
      "Paper Title: Multi-Resource Continuous Allocation Model for Cloud Services. | Link: https://doi.org/10.1109/ICCNC.2019.8685494\n",
      "Paper Title: AMPeD: An Analytical Model for Performance in Distributed Training of Transformers. | Link: https://doi.org/10.1109/ISPASS57527.2023.00037\n"
     ]
    }
   ],
   "source": [
    "# Function: show_paper_pdf_links\n",
    "study_id_example = '1'\n",
    "for paper_info in db_manager.show_paper_pdf_links(study_id_example): print(paper_info)"
   ]
  },
  {
   "cell_type": "markdown",
   "metadata": {},
   "source": [
    "## Content Fetchers"
   ]
  },
  {
   "cell_type": "code",
   "execution_count": 5,
   "metadata": {},
   "outputs": [
    {
     "name": "stdout",
     "output_type": "stream",
     "text": [
      "Study details for ID 1: <database.models.Study object at 0x7efc98938af0>\n",
      "Papers for study ID 1: [<database.models.Paper object at 0x7efc987da890>, <database.models.Paper object at 0x7efc987da8f0>, <database.models.Paper object at 0x7efc987dab30>, <database.models.Paper object at 0x7efc987daa70>, <database.models.Paper object at 0x7efc987daa40>]\n",
      "1\n"
     ]
    }
   ],
   "source": [
    "# Function: get_study\n",
    "study : Study = db_manager.get_study(study_id_example)\n",
    "print(f\"Study details for ID {study_id_example}: {study}\")\n",
    "\n",
    "# Function: get_study_papers\n",
    "study_papers = db_manager.get_study_papers(study_id_example)\n",
    "print(f\"Papers for study ID {study_id_example}: {study_papers}\")\n",
    "print(study_papers[0].id)"
   ]
  },
  {
   "cell_type": "code",
   "execution_count": 6,
   "metadata": {},
   "outputs": [
    {
     "name": "stdout",
     "output_type": "stream",
     "text": [
      "Report for study ID 1 and paper ID 1: <database.models.Report object at 0x7efc994e11e0>\n",
      "{'_sa_instance_state': <sqlalchemy.orm.state.InstanceState object at 0x7efc9877ed40>, 'paper_id': 1, 'passed_criteria': False, 'id': 1}\n"
     ]
    }
   ],
   "source": [
    "# Function: get_paper_report\n",
    "paper_id_example = '1'\n",
    "report = db_manager.get_paper_report(study_id_example, paper_id_example)\n",
    "print(f\"Report for study ID {study_id_example} and paper ID {paper_id_example}: {report}\")\n",
    "print(report.__dict__)"
   ]
  },
  {
   "cell_type": "code",
   "execution_count": 7,
   "metadata": {},
   "outputs": [
    {
     "name": "stdout",
     "output_type": "stream",
     "text": [
      "Criteria assessments for report ID 1 and criteria type CriteriaType.inclusion: [<database.models.CriteriaAssessment object at 0x7efc987da080>, <database.models.CriteriaAssessment object at 0x7efc98688340>, <database.models.CriteriaAssessment object at 0x7efc98688310>, <database.models.CriteriaAssessment object at 0x7efc986882e0>, <database.models.CriteriaAssessment object at 0x7efc986883d0>, <database.models.CriteriaAssessment object at 0x7efc98688400>, <database.models.CriteriaAssessment object at 0x7efc98688430>, <database.models.CriteriaAssessment object at 0x7efc98688460>, <database.models.CriteriaAssessment object at 0x7efc98688490>, <database.models.CriteriaAssessment object at 0x7efc986884c0>, <database.models.CriteriaAssessment object at 0x7efc986884f0>, <database.models.CriteriaAssessment object at 0x7efc98688520>, <database.models.CriteriaAssessment object at 0x7efc98688370>, <database.models.CriteriaAssessment object at 0x7efc98688580>, <database.models.CriteriaAssessment object at 0x7efc986885e0>, <database.models.CriteriaAssessment object at 0x7efc98688640>, <database.models.CriteriaAssessment object at 0x7efc986886a0>]\n"
     ]
    }
   ],
   "source": [
    "# Function: get_report_criteria_assessments for inclusion criteria\n",
    "criteria_type_example = CriteriaType.inclusion\n",
    "criteria_assessments = db_manager.get_report_criteria_assessments(criteria_type_example, report.id)\n",
    "print(f\"Criteria assessments for report ID {report.id} and criteria type {criteria_type_example}: {criteria_assessments}\")"
   ]
  },
  {
   "cell_type": "code",
   "execution_count": null,
   "metadata": {},
   "outputs": [],
   "source": [
    "# Function: get_report_criteria_assessments for exclusion criteria\n",
    "criteria_type_example = CriteriaType.exclusion\n",
    "criteria_assessments = db_manager.get_report_criteria_assessments(criteria_type_example, report.id)\n",
    "print(f\"Criteria assessments for report ID {report.id} and criteria type {criteria_type_example}: {criteria_assessments}\")"
   ]
  },
  {
   "cell_type": "code",
   "execution_count": null,
   "metadata": {},
   "outputs": [],
   "source": [
    "reports = db_manager.get_study_reports(study_id_example)\n",
    "print(reports)"
   ]
  }
 ],
 "metadata": {
  "kernelspec": {
   "display_name": ".venv",
   "language": "python",
   "name": "python3"
  },
  "language_info": {
   "codemirror_mode": {
    "name": "ipython",
    "version": 3
   },
   "file_extension": ".py",
   "mimetype": "text/x-python",
   "name": "python",
   "nbconvert_exporter": "python",
   "pygments_lexer": "ipython3",
   "version": "3.10.14"
  }
 },
 "nbformat": 4,
 "nbformat_minor": 2
}
